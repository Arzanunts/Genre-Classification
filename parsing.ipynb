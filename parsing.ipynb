{
 "cells": [
  {
   "cell_type": "markdown",
   "id": "7ed7381c",
   "metadata": {},
   "source": [
    "<h2 align=\"center\">Парсинг музыки Yandex.Music</h2> "
   ]
  },
  {
   "cell_type": "markdown",
   "id": "9949b80a",
   "metadata": {},
   "source": [
    "Загрузим все песни по 10 жанрам в единый словарь с ключом - исполнителем и значением - песней"
   ]
  },
  {
   "cell_type": "markdown",
   "id": "b1a7876f",
   "metadata": {},
   "source": [
    "### 1.Загружаем библиотеки"
   ]
  },
  {
   "cell_type": "code",
   "execution_count": 91,
   "id": "291fe452",
   "metadata": {},
   "outputs": [],
   "source": [
    "import requests\n",
    "from bs4 import BeautifulSoup"
   ]
  },
  {
   "cell_type": "markdown",
   "id": "204f8a58",
   "metadata": {},
   "source": [
    "### 2. Загружаем URL плейлистов по нужным жанрам"
   ]
  },
  {
   "cell_type": "code",
   "execution_count": 43,
   "id": "d5b06cd4",
   "metadata": {},
   "outputs": [],
   "source": [
    "urls_yandex = {\n",
    "    'blues':'https://music.yandex.ru/users/ya.musicgenre/playlists/1069',\n",
    "    'classical':'https://music.yandex.ru/users/yamusic-top/playlists/1138',\n",
    "    'country':'https://music.yandex.ru/users/ya.musicgenre/playlists/1040',\n",
    "    'disco':'https://music.yandex.ru/users/music.partners/playlists/2061',\n",
    "    'hip hop':'https://music.yandex.ru/users/yamusic-top/playlists/1039',\n",
    "    'jazz':'https://music.yandex.ru/users/ya.musicgenre/playlists/1125',\n",
    "    'metal':'https://music.yandex.ru/users/yamusic-top/playlists/1080',\n",
    "    'pop':'https://music.yandex.ru/users/yamusic-top/playlists/1010',\n",
    "    'reggae':'https://music.yandex.ru/users/yamusic-top/playlists/1034',\n",
    "    'rock':'https://music.yandex.ru/users/yamusic-top/playlists/1013'\n",
    "}\n",
    "songs_yandex = dict(zip(urls_yandex.keys(),[{} for x in range(10)]))"
   ]
  },
  {
   "cell_type": "markdown",
   "id": "3f1e6239",
   "metadata": {},
   "source": [
    "### 3. Парсим плейлисты"
   ]
  },
  {
   "cell_type": "code",
   "execution_count": 76,
   "id": "dc070449",
   "metadata": {},
   "outputs": [
    {
     "name": "stderr",
     "output_type": "stream",
     "text": [
      "10it [00:09,  1.06it/s]\n"
     ]
    }
   ],
   "source": [
    "from tqdm import tqdm\n",
    "for genre,url in tqdm(zip(urls_yandex.keys(),urls_yandex.values())):\n",
    "    response = requests.get(url)\n",
    "    tree = BeautifulSoup(response.text, features=\"html.parser\")\n",
    "    song_names = tree.find_all('div', {'class': 'd-track__name'})\n",
    "    song_artists = tree.find_all('div', {'class': 'd-track__meta'})\n",
    "    song_names = BeautifulSoup(str(song_names))\n",
    "    songs = dict()\n",
    "    info_names = song_names.find_all('div')\n",
    "    info_artists = song_artists\n",
    "    for name,artist in zip(info_names,info_artists):\n",
    "        songs[name['title']] = artist.find('a')['title']\n",
    "    songs_yandex[genre] = songs"
   ]
  },
  {
   "cell_type": "markdown",
   "id": "77c26e7e",
   "metadata": {},
   "source": [
    "### 4. Загружаем в JSON"
   ]
  },
  {
   "cell_type": "code",
   "execution_count": 90,
   "id": "77b079e3",
   "metadata": {},
   "outputs": [],
   "source": [
    "import json\n",
    "with open('songs_yandex.json','w') as f:\n",
    "    json.dump(songs_yandex,f)"
   ]
  },
  {
   "cell_type": "markdown",
   "id": "90be9c57",
   "metadata": {},
   "source": [
    "---"
   ]
  },
  {
   "cell_type": "markdown",
   "id": "b607f455",
   "metadata": {},
   "source": [
    "<h2 align=\"center\">Загрузка музыки songs_yandex</h2> "
   ]
  },
  {
   "cell_type": "markdown",
   "id": "6797b572",
   "metadata": {},
   "source": [
    "Следующее, что нужно, это выгрузить все песни из словаря __songsyandex__ \\\n",
    "Сделаем это через библиотеку yandex-music"
   ]
  },
  {
   "cell_type": "code",
   "execution_count": 238,
   "id": "ffe1ffe0",
   "metadata": {},
   "outputs": [],
   "source": [
    "from yandex_music import Client\n",
    "import os\n",
    "import shutil\n"
   ]
  },
  {
   "cell_type": "code",
   "execution_count": 96,
   "id": "8bb7dca7",
   "metadata": {},
   "outputs": [],
   "source": [
    "token = 'AQAAAABXD1fqAAG8XuQ5vS3CT0pSrrMhtzl_sPA'"
   ]
  },
  {
   "cell_type": "code",
   "execution_count": 100,
   "id": "195c7a2f",
   "metadata": {},
   "outputs": [],
   "source": [
    "client = Client(token).init()"
   ]
  },
  {
   "cell_type": "code",
   "execution_count": 297,
   "id": "e7469bbe",
   "metadata": {},
   "outputs": [],
   "source": [
    "c=0\n",
    "for genre in songs_yandex:\n",
    "    os.mkdir(genre)\n",
    "    for artist, song in (zip(songs_yandex[genre].values(), songs_yandex[genre].keys())):\n",
    "        searcher = client.search(artist+' '+song).best.result\n",
    "        if genre != 'classical':\n",
    "            searcher.download(os.path.abspath(genre)+'/'+searcher.title+'.wav')\n",
    "        else:\n",
    "            c+=1\n",
    "            searcher.download(os.path.abspath(genre)+'/'+str(c)+'.wav')\n",
    "    print(genre,' - COMPELETED')"
   ]
  },
  {
   "cell_type": "code",
   "execution_count": null,
   "id": "2a715d51",
   "metadata": {
    "scrolled": true
   },
   "outputs": [],
   "source": [
    "for genre in ['pop','reggae','rock']:\n",
    "    os.mkdir(genre)\n",
    "    for artist, song in (zip(songs_yandex[genre].values(), songs_yandex[genre].keys())):\n",
    "        searcher = client.search(artist+' '+song).best.result\n",
    "        try:\n",
    "            searcher.download(os.path.abspath(genre)+'/'+searcher.title+'.wav')\n",
    "        except:\n",
    "            pass\n",
    "    print('COMPLETED')"
   ]
  },
  {
   "cell_type": "code",
   "execution_count": null,
   "id": "31a22e2d",
   "metadata": {},
   "outputs": [],
   "source": [
    "os.mkdir('rock')\n",
    "for artist, song in (zip(songs_yandex[genre].values(), songs_yandex[genre].keys())):\n",
    "    searcher = client.search(artist+' '+song).best.result\n",
    "    try:\n",
    "        searcher.download(os.path.abspath(genre)+'/'+searcher.title+'.wav')\n",
    "    except:\n",
    "        pass\n",
    "print('COMPLETED')"
   ]
  },
  {
   "cell_type": "markdown",
   "id": "7d98ad4b",
   "metadata": {},
   "source": [
    "#### Как все происходило?"
   ]
  },
  {
   "cell_type": "markdown",
   "id": "ba3ada5b",
   "metadata": {},
   "source": [
    "Переменная __token__ - это токен аккаунта Yandex.Music, который нужно получить для работы с библиотекой. После инициализации Client мы можем выполнять множество действий, но займемся одним - поиском нужных песен через __.search__ \\\n",
    "После того как трек найден, берем лучший результат и скачиваем его в формате __.wav__"
   ]
  },
  {
   "cell_type": "code",
   "execution_count": null,
   "id": "33f59ea4",
   "metadata": {},
   "outputs": [],
   "source": []
  }
 ],
 "metadata": {
  "kernelspec": {
   "display_name": "Python 3 (ipykernel)",
   "language": "python",
   "name": "python3"
  },
  "language_info": {
   "codemirror_mode": {
    "name": "ipython",
    "version": 3
   },
   "file_extension": ".py",
   "mimetype": "text/x-python",
   "name": "python",
   "nbconvert_exporter": "python",
   "pygments_lexer": "ipython3",
   "version": "3.10.8"
  }
 },
 "nbformat": 4,
 "nbformat_minor": 5
}
