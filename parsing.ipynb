{
 "cells": [
  {
   "cell_type": "markdown",
   "id": "d87a535b",
   "metadata": {},
   "source": [
    "<h2 align=\"center\">Парсинг музыки Yandex.Music</h2> "
   ]
  },
  {
   "cell_type": "markdown",
   "id": "769c189f",
   "metadata": {},
   "source": [
    "Загрузим все песни по 10 жанрам в единый словарь с ключом - исполнителем и значением - песней"
   ]
  },
  {
   "cell_type": "markdown",
   "id": "34b23d35",
   "metadata": {},
   "source": [
    "### 1.Загружаем библиотеки"
   ]
  },
  {
   "cell_type": "code",
   "execution_count": 91,
   "id": "7d6fb7c9",
   "metadata": {},
   "outputs": [],
   "source": [
    "import requests\n",
    "from bs4 import BeautifulSoup"
   ]
  },
  {
   "cell_type": "markdown",
   "id": "22b7089f",
   "metadata": {},
   "source": [
    "### 2. Загружаем URL плейлистов по нужным жанрам"
   ]
  },
  {
   "cell_type": "code",
   "execution_count": 43,
   "id": "31f82659",
   "metadata": {},
   "outputs": [],
   "source": [
    "urls_yandex = {\n",
    "    'blues':'https://music.yandex.ru/users/ya.musicgenre/playlists/1069',\n",
    "    'classical':'https://music.yandex.ru/users/yamusic-top/playlists/1138',\n",
    "    'country':'https://music.yandex.ru/users/ya.musicgenre/playlists/1040',\n",
    "    'disco':'https://music.yandex.ru/users/music.partners/playlists/2061',\n",
    "    'hip hop':'https://music.yandex.ru/users/yamusic-top/playlists/1039',\n",
    "    'jazz':'https://music.yandex.ru/users/ya.musicgenre/playlists/1125',\n",
    "    'metal':'https://music.yandex.ru/users/yamusic-top/playlists/1080',\n",
    "    'pop':'https://music.yandex.ru/users/yamusic-top/playlists/1010',\n",
    "    'reggae':'https://music.yandex.ru/users/yamusic-top/playlists/1034',\n",
    "    'rock':'https://music.yandex.ru/users/yamusic-top/playlists/1013'\n",
    "}\n",
    "songs_yandex = dict(zip(urls_yandex.keys(),[{} for x in range(10)]))"
   ]
  },
  {
   "cell_type": "markdown",
   "id": "590de4f3",
   "metadata": {},
   "source": [
    "### 3. Парсим плейлисты"
   ]
  },
  {
   "cell_type": "code",
   "execution_count": 76,
   "id": "a0e5fb7a",
   "metadata": {},
   "outputs": [
    {
     "name": "stderr",
     "output_type": "stream",
     "text": [
      "10it [00:09,  1.06it/s]\n"
     ]
    }
   ],
   "source": [
    "from tqdm import tqdm\n",
    "for genre,url in tqdm(zip(urls_yandex.keys(),urls_yandex.values())):\n",
    "    response = requests.get(url)\n",
    "    tree = BeautifulSoup(response.text, features=\"html.parser\")\n",
    "    song_names = tree.find_all('div', {'class': 'd-track__name'})\n",
    "    song_artists = tree.find_all('div', {'class': 'd-track__meta'})\n",
    "    song_names = BeautifulSoup(str(song_names))\n",
    "    songs = dict()\n",
    "    info_names = song_names.find_all('div')\n",
    "    info_artists = song_artists\n",
    "    for name,artist in zip(info_names,info_artists):\n",
    "        songs[name['title']] = artist.find('a')['title']\n",
    "    songs_yandex[genre] = songs"
   ]
  },
  {
   "cell_type": "markdown",
   "id": "cb50ad55",
   "metadata": {},
   "source": [
    "### 4. Загружаем в JSON"
   ]
  },
  {
   "cell_type": "code",
   "execution_count": 90,
   "id": "0e0a0939",
   "metadata": {},
   "outputs": [],
   "source": [
    "import json\n",
    "with open('songs_yandex.json','w') as f:\n",
    "    json.dump(songs_yandex,f)"
   ]
  },
  {
   "cell_type": "markdown",
   "id": "ce0810a6",
   "metadata": {},
   "source": [
    "---"
   ]
  },
  {
   "cell_type": "markdown",
   "id": "3fbf479e",
   "metadata": {},
   "source": [
    "<h2 align=\"center\">Загрузка музыки songs_yandex</h2> "
   ]
  },
  {
   "cell_type": "markdown",
   "id": "13661bb5",
   "metadata": {},
   "source": [
    "Следующее, что нужно, это выгрузить все песни из словаря __songsyandex__ \\\n",
    "Сделаем это через библиотеку yandex-music"
   ]
  },
  {
   "cell_type": "code",
   "execution_count": 220,
   "id": "1b6c89c1",
   "metadata": {},
   "outputs": [],
   "source": [
    "from yandex_music import Client\n",
    "from glob import glob"
   ]
  },
  {
   "cell_type": "code",
   "execution_count": 222,
   "id": "b29d1400",
   "metadata": {},
   "outputs": [
    {
     "data": {
      "text/plain": [
       "[]"
      ]
     },
     "execution_count": 222,
     "metadata": {},
     "output_type": "execute_result"
    }
   ],
   "source": [
    "glob('/songs')"
   ]
  },
  {
   "cell_type": "code",
   "execution_count": 96,
   "id": "cb7e6710",
   "metadata": {},
   "outputs": [],
   "source": [
    "token = 'AQAAAABXD1fqAAG8XuQ5vS3CT0pSrrMhtzl_sPA'"
   ]
  },
  {
   "cell_type": "code",
   "execution_count": 100,
   "id": "c340175d",
   "metadata": {},
   "outputs": [],
   "source": [
    "client = Client(token).init()"
   ]
  },
  {
   "cell_type": "code",
   "execution_count": 193,
   "id": "2bedc726",
   "metadata": {},
   "outputs": [],
   "source": [
    "k = client.search('Alright Kendrick Lamar').best.result"
   ]
  },
  {
   "cell_type": "code",
   "execution_count": 197,
   "id": "68212fa2",
   "metadata": {},
   "outputs": [],
   "source": [
    "k.download('Alright.mp3')"
   ]
  },
  {
   "cell_type": "code",
   "execution_count": 218,
   "id": "d319573d",
   "metadata": {},
   "outputs": [
    {
     "name": "stderr",
     "output_type": "stream",
     "text": [
      "\n",
      "0it [00:00, ?it/s]\u001b[A"
     ]
    },
    {
     "name": "stdout",
     "output_type": "stream",
     "text": [
      "The Thrill Is Gone.mp3\n"
     ]
    },
    {
     "name": "stderr",
     "output_type": "stream",
     "text": [
      "\n",
      "1it [00:14, 14.96s/it]\u001b[A"
     ]
    },
    {
     "name": "stdout",
     "output_type": "stream",
     "text": [
      "Evil (Is Going On).mp3\n"
     ]
    },
    {
     "name": "stderr",
     "output_type": "stream",
     "text": [
      "\n",
      "2it [00:16,  6.97s/it]\u001b[A"
     ]
    },
    {
     "name": "stdout",
     "output_type": "stream",
     "text": [
      "Get These Blues off Me.mp3\n"
     ]
    },
    {
     "name": "stderr",
     "output_type": "stream",
     "text": [
      "\n",
      "3it [00:17,  4.30s/it]\u001b[A"
     ]
    },
    {
     "name": "stdout",
     "output_type": "stream",
     "text": [
      "Wang Dang Doodle.mp3\n"
     ]
    },
    {
     "name": "stderr",
     "output_type": "stream",
     "text": [
      "\n",
      "4it [00:19,  3.46s/it]\u001b[A"
     ]
    },
    {
     "name": "stdout",
     "output_type": "stream",
     "text": [
      "I'm Your Man.mp3\n"
     ]
    },
    {
     "name": "stderr",
     "output_type": "stream",
     "text": [
      "\n",
      "5it [00:20,  2.54s/it]\u001b[A"
     ]
    },
    {
     "name": "stdout",
     "output_type": "stream",
     "text": [
      "Got My Mojo Working.mp3\n"
     ]
    },
    {
     "name": "stderr",
     "output_type": "stream",
     "text": [
      "\n",
      "6it [00:21,  2.01s/it]\u001b[A"
     ]
    },
    {
     "name": "stdout",
     "output_type": "stream",
     "text": [
      "Ball N' Chain.mp3\n"
     ]
    },
    {
     "name": "stderr",
     "output_type": "stream",
     "text": [
      "\n",
      "7it [00:22,  1.62s/it]\u001b[A"
     ]
    },
    {
     "name": "stdout",
     "output_type": "stream",
     "text": [
      "Born Under a Bad Sign.mp3\n"
     ]
    },
    {
     "name": "stderr",
     "output_type": "stream",
     "text": [
      "\n",
      "8it [00:23,  1.40s/it]\u001b[A"
     ]
    },
    {
     "name": "stdout",
     "output_type": "stream",
     "text": [
      "I'm A King Bee.mp3\n"
     ]
    },
    {
     "name": "stderr",
     "output_type": "stream",
     "text": [
      "\n",
      "9it [00:24,  1.28s/it]\u001b[A"
     ]
    },
    {
     "name": "stdout",
     "output_type": "stream",
     "text": [
      "Gin House Blues.mp3\n"
     ]
    },
    {
     "name": "stderr",
     "output_type": "stream",
     "text": [
      "\n",
      "10it [00:25,  1.11s/it]\u001b[A"
     ]
    },
    {
     "name": "stdout",
     "output_type": "stream",
     "text": [
      "I'm in the Mood.mp3\n"
     ]
    },
    {
     "name": "stderr",
     "output_type": "stream",
     "text": [
      "\n",
      "11it [00:25,  1.06s/it]\u001b[A"
     ]
    },
    {
     "name": "stdout",
     "output_type": "stream",
     "text": [
      "Reconsider Baby.mp3\n"
     ]
    },
    {
     "name": "stderr",
     "output_type": "stream",
     "text": [
      "\n",
      "12it [00:26,  1.04it/s]\u001b[A"
     ]
    },
    {
     "name": "stdout",
     "output_type": "stream",
     "text": [
      "I'm A Man.mp3\n"
     ]
    },
    {
     "name": "stderr",
     "output_type": "stream",
     "text": [
      "\n",
      "13it [00:27,  1.01it/s]\u001b[A"
     ]
    },
    {
     "name": "stdout",
     "output_type": "stream",
     "text": [
      "Black Angel Blues.mp3\n"
     ]
    },
    {
     "name": "stderr",
     "output_type": "stream",
     "text": [
      "\n",
      "14it [00:28,  1.08it/s]\u001b[A"
     ]
    },
    {
     "name": "stdout",
     "output_type": "stream",
     "text": [
      "Messin' with the Kid.mp3\n"
     ]
    },
    {
     "name": "stderr",
     "output_type": "stream",
     "text": [
      "\n",
      "15it [00:29,  1.19it/s]\u001b[A"
     ]
    },
    {
     "name": "stdout",
     "output_type": "stream",
     "text": [
      "I'd Rather Go Blind.mp3\n"
     ]
    },
    {
     "name": "stderr",
     "output_type": "stream",
     "text": [
      "\n",
      "16it [00:29,  1.27it/s]\u001b[A"
     ]
    },
    {
     "name": "stdout",
     "output_type": "stream",
     "text": [
      "Stone Crazy.mp3\n"
     ]
    },
    {
     "name": "stderr",
     "output_type": "stream",
     "text": [
      "\n",
      "17it [00:31,  1.05it/s]\u001b[A"
     ]
    },
    {
     "name": "stdout",
     "output_type": "stream",
     "text": [
      "You Know My Love.mp3\n"
     ]
    },
    {
     "name": "stderr",
     "output_type": "stream",
     "text": [
      "\n",
      "18it [00:32,  1.04s/it]\u001b[A"
     ]
    },
    {
     "name": "stdout",
     "output_type": "stream",
     "text": [
      "Where Did You Sleep Last Night.mp3\n"
     ]
    },
    {
     "name": "stderr",
     "output_type": "stream",
     "text": [
      "\n",
      "19it [00:32,  1.11it/s]\u001b[A"
     ]
    },
    {
     "name": "stdout",
     "output_type": "stream",
     "text": [
      "Annie Mae's cafe.mp3\n"
     ]
    },
    {
     "name": "stderr",
     "output_type": "stream",
     "text": [
      "\n",
      "20it [00:34,  1.01s/it]\u001b[A"
     ]
    },
    {
     "name": "stdout",
     "output_type": "stream",
     "text": [
      "Ain't No Love In The Heart Of The City.mp3\n"
     ]
    },
    {
     "name": "stderr",
     "output_type": "stream",
     "text": [
      "\n",
      "21it [00:35,  1.06it/s]\u001b[A"
     ]
    },
    {
     "name": "stdout",
     "output_type": "stream",
     "text": [
      "Sittin' and Cryin' the Blues.mp3\n"
     ]
    },
    {
     "name": "stderr",
     "output_type": "stream",
     "text": [
      "\n",
      "22it [00:36,  1.02s/it]\u001b[A"
     ]
    },
    {
     "name": "stdout",
     "output_type": "stream",
     "text": [
      "You Don't Know My Mind.mp3\n"
     ]
    },
    {
     "name": "stderr",
     "output_type": "stream",
     "text": [
      "\n",
      "23it [00:37,  1.01s/it]\u001b[A"
     ]
    },
    {
     "name": "stdout",
     "output_type": "stream",
     "text": [
      "Dust My Broom.mp3\n"
     ]
    },
    {
     "name": "stderr",
     "output_type": "stream",
     "text": [
      "\n",
      "24it [00:38,  1.00s/it]\u001b[A"
     ]
    },
    {
     "name": "stdout",
     "output_type": "stream",
     "text": [
      "Leave My Woman Alone.mp3\n"
     ]
    },
    {
     "name": "stderr",
     "output_type": "stream",
     "text": [
      "\n",
      "25it [00:39,  1.05it/s]\u001b[A"
     ]
    },
    {
     "name": "stdout",
     "output_type": "stream",
     "text": [
      "The Things That I Used To Do.mp3\n"
     ]
    },
    {
     "name": "stderr",
     "output_type": "stream",
     "text": [
      "\n",
      "26it [00:39,  1.18it/s]\u001b[A"
     ]
    },
    {
     "name": "stdout",
     "output_type": "stream",
     "text": [
      "One Bourbon, One Scotch, One Beer.mp3\n"
     ]
    },
    {
     "name": "stderr",
     "output_type": "stream",
     "text": [
      "\n",
      "27it [00:40,  1.10it/s]\u001b[A"
     ]
    },
    {
     "name": "stdout",
     "output_type": "stream",
     "text": [
      "Today I Sing the Blues.mp3\n"
     ]
    },
    {
     "name": "stderr",
     "output_type": "stream",
     "text": [
      "\n",
      "28it [00:41,  1.17it/s]\u001b[A"
     ]
    },
    {
     "name": "stdout",
     "output_type": "stream",
     "text": [
      "All Walks Of Life.mp3\n"
     ]
    },
    {
     "name": "stderr",
     "output_type": "stream",
     "text": [
      "\n",
      "29it [00:42,  1.20it/s]\u001b[A"
     ]
    },
    {
     "name": "stdout",
     "output_type": "stream",
     "text": [
      "Five Long Years.mp3\n"
     ]
    },
    {
     "name": "stderr",
     "output_type": "stream",
     "text": [
      "\n",
      "30it [00:43,  1.15it/s]\u001b[A"
     ]
    },
    {
     "name": "stdout",
     "output_type": "stream",
     "text": [
      "We're Gonna Make It.mp3\n"
     ]
    },
    {
     "name": "stderr",
     "output_type": "stream",
     "text": [
      "\n",
      "31it [00:44,  1.14it/s]\u001b[A"
     ]
    },
    {
     "name": "stdout",
     "output_type": "stream",
     "text": [
      "I Feel Like Going Home.mp3\n"
     ]
    },
    {
     "name": "stderr",
     "output_type": "stream",
     "text": [
      "\n",
      "32it [00:45,  1.06it/s]\u001b[A"
     ]
    },
    {
     "name": "stdout",
     "output_type": "stream",
     "text": [
      "Further On Up The Road.mp3\n"
     ]
    },
    {
     "name": "stderr",
     "output_type": "stream",
     "text": [
      "\n",
      "33it [00:45,  1.13it/s]\u001b[A"
     ]
    },
    {
     "name": "stdout",
     "output_type": "stream",
     "text": [
      "Born with the Blues.mp3\n"
     ]
    },
    {
     "name": "stderr",
     "output_type": "stream",
     "text": [
      "\n",
      "34it [00:46,  1.16it/s]\u001b[A"
     ]
    },
    {
     "name": "stdout",
     "output_type": "stream",
     "text": [
      "The Same Thing.mp3\n"
     ]
    },
    {
     "name": "stderr",
     "output_type": "stream",
     "text": [
      "\n",
      "35it [00:47,  1.02it/s]\u001b[A"
     ]
    },
    {
     "name": "stdout",
     "output_type": "stream",
     "text": [
      "Nobody Knows You When You're Down and Out.mp3\n"
     ]
    },
    {
     "name": "stderr",
     "output_type": "stream",
     "text": [
      "\n",
      "36it [00:48,  1.11it/s]\u001b[A"
     ]
    },
    {
     "name": "stdout",
     "output_type": "stream",
     "text": [
      "My Babe.mp3\n"
     ]
    },
    {
     "name": "stderr",
     "output_type": "stream",
     "text": [
      "\n",
      "37it [00:49,  1.06it/s]\u001b[A"
     ]
    },
    {
     "name": "stdout",
     "output_type": "stream",
     "text": [
      "How Long Blues.mp3\n"
     ]
    },
    {
     "name": "stderr",
     "output_type": "stream",
     "text": [
      "\n",
      "38it [00:50,  1.04it/s]\u001b[A"
     ]
    },
    {
     "name": "stdout",
     "output_type": "stream",
     "text": [
      "Tore Down.mp3\n"
     ]
    },
    {
     "name": "stderr",
     "output_type": "stream",
     "text": [
      "\n",
      "39it [00:52,  1.20s/it]\u001b[A"
     ]
    },
    {
     "name": "stdout",
     "output_type": "stream",
     "text": [
      "Everyday I Have The Blues.mp3\n"
     ]
    },
    {
     "name": "stderr",
     "output_type": "stream",
     "text": [
      "\n",
      "40it [00:53,  1.13s/it]\u001b[A"
     ]
    },
    {
     "name": "stdout",
     "output_type": "stream",
     "text": [
      "Match Box Blues.mp3\n"
     ]
    },
    {
     "name": "stderr",
     "output_type": "stream",
     "text": [
      "\n",
      "41it [00:54,  1.32s/it]\u001b[A\n"
     ]
    }
   ],
   "source": [
    "for artist, song in tqdm(zip(songs_yandex['blues'].values(), songs_yandex['blues'].keys())):\n",
    "    searcher = client.search(artist+' '+song).best.result\n",
    "    print(searcher.title+'.mp3')\n",
    "    searcher.download('/Users/stevenstrange/Desktop/songs/'+searcher.title+'.mp3')"
   ]
  },
  {
   "cell_type": "code",
   "execution_count": 208,
   "id": "633834d3",
   "metadata": {},
   "outputs": [],
   "source": [
    "k = client.search('B.B. King The Thrill Is Gone').best.result"
   ]
  },
  {
   "cell_type": "code",
   "execution_count": 216,
   "id": "4ab3e705",
   "metadata": {},
   "outputs": [],
   "source": [
    "?k.download"
   ]
  },
  {
   "cell_type": "code",
   "execution_count": null,
   "id": "f14fec20",
   "metadata": {},
   "outputs": [],
   "source": []
  }
 ],
 "metadata": {
  "kernelspec": {
   "display_name": "Python 3 (ipykernel)",
   "language": "python",
   "name": "python3"
  },
  "language_info": {
   "codemirror_mode": {
    "name": "ipython",
    "version": 3
   },
   "file_extension": ".py",
   "mimetype": "text/x-python",
   "name": "python",
   "nbconvert_exporter": "python",
   "pygments_lexer": "ipython3",
   "version": "3.10.8"
  }
 },
 "nbformat": 4,
 "nbformat_minor": 5
}
