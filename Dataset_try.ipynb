{
 "cells": [
  {
   "cell_type": "code",
   "execution_count": 11,
   "id": "55857276",
   "metadata": {},
   "outputs": [],
   "source": [
    "import pandas as pd\n",
    "import numpy as np\n",
    "import librosa as lr\n",
    "import pydub\n",
    "import math"
   ]
  },
  {
   "cell_type": "code",
   "execution_count": 45,
   "id": "96afa94c",
   "metadata": {},
   "outputs": [],
   "source": [
    "dur = pydub.utils.mediainfo(f'/Users/stevenstrange/Desktop/Genres/songs/Y.Music/classical/2.wav')['duration']\n",
    "data, sr = lr.load(f'/Users/stevenstrange/Desktop/Genres/songs/Y.Music/classical/2.wav',  duration = math.floor(float(dur)))"
   ]
  },
  {
   "cell_type": "code",
   "execution_count": 23,
   "id": "87176075",
   "metadata": {},
   "outputs": [],
   "source": [
    "chroma_cens = lr.feature.chroma_cens(y=data, sr=sr)\n",
    "chroma_cq = lr.feature.chroma_cqt(y=data, sr=sr)\n",
    "S = np.abs(lr.stft(data, n_fft=4096))**2\n",
    "chroma = lr.feature.chroma_stft(S=S, sr=sr)\n",
    "chroma_stft = lr.feature.chroma_stft(y=data, sr=sr,\n",
    "                                           n_chroma=12, n_fft=4096)\n",
    "oenv = lr.onset.onset_strength(y=data, sr=sr, hop_length=512)\n",
    "ac_tempogram = lr.feature.tempogram(onset_envelope=oenv, sr=sr,\n",
    "                                          hop_length=512, norm=None)\n",
    "m_htk = lr.feature.mfcc(y=data, sr=sr, dct_type=3)\n",
    "S, phase = lr.magphase(lr.stft(data))\n",
    "rms = lr.feature.rms(S=S)"
   ]
  },
  {
   "cell_type": "code",
   "execution_count": 24,
   "id": "d3583657",
   "metadata": {},
   "outputs": [
    {
     "data": {
      "text/plain": [
       "((12, 6676), (12, 6676), (12, 6676), (384, 6676), (20, 6676), (1, 6676))"
      ]
     },
     "execution_count": 24,
     "metadata": {},
     "output_type": "execute_result"
    }
   ],
   "source": [
    "chroma_cens.shape,chroma_cq.shape,chroma_stft.shape,ac_tempogram.shape,m_htk.shape,rms.shape"
   ]
  },
  {
   "cell_type": "code",
   "execution_count": 25,
   "id": "d2a59d8f",
   "metadata": {},
   "outputs": [],
   "source": [
    "df = pd.DataFrame(rms.reshape(-1,1),dtype='float64')\n",
    "# k2 = pd.DataFrame(chroma_cens.T,dtype='float64')\n"
   ]
  },
  {
   "cell_type": "code",
   "execution_count": 26,
   "id": "82e0626a",
   "metadata": {},
   "outputs": [],
   "source": [
    "for feat in [chroma_cens,chroma_cq,chroma_stft,ac_tempogram,m_htk]:\n",
    "    df = pd.concat([df,pd.DataFrame(feat.reshape(-1,feat.shape[0]))],axis=1)"
   ]
  },
  {
   "cell_type": "code",
   "execution_count": 27,
   "id": "a62f88bf",
   "metadata": {},
   "outputs": [
    {
     "data": {
      "text/plain": [
       "torch.Size([6676, 441])"
      ]
     },
     "execution_count": 27,
     "metadata": {},
     "output_type": "execute_result"
    }
   ],
   "source": [
    "torch.tensor(np.array(df)).shape"
   ]
  },
  {
   "cell_type": "code",
   "execution_count": 29,
   "id": "dce40854",
   "metadata": {},
   "outputs": [
    {
     "data": {
      "text/plain": [
       "(3417750,)"
      ]
     },
     "execution_count": 29,
     "metadata": {},
     "output_type": "execute_result"
    }
   ],
   "source": [
    "data.shape"
   ]
  },
  {
   "cell_type": "code",
   "execution_count": null,
   "id": "49a4292b",
   "metadata": {},
   "outputs": [],
   "source": []
  }
 ],
 "metadata": {
  "kernelspec": {
   "display_name": "Python 3 (ipykernel)",
   "language": "python",
   "name": "python3"
  },
  "language_info": {
   "codemirror_mode": {
    "name": "ipython",
    "version": 3
   },
   "file_extension": ".py",
   "mimetype": "text/x-python",
   "name": "python",
   "nbconvert_exporter": "python",
   "pygments_lexer": "ipython3",
   "version": "3.10.8"
  }
 },
 "nbformat": 4,
 "nbformat_minor": 5
}
